{
 "cells": [
  {
   "cell_type": "code",
   "execution_count": null,
   "metadata": {},
   "outputs": [],
   "source": [
    "import numpy as np\n",
    "from utilities import data_management_utils as data_utils"
   ]
  },
  {
   "cell_type": "code",
   "execution_count": null,
   "metadata": {},
   "outputs": [],
   "source": [
    "generated_data_path = './data/NIST_generated/'\n",
    "real_data_path = './data/190520_mod/'\n",
    "\n",
    "# list containing single shots to be removed or just the path, beware that the path is expected\n",
    "# in the same format as the filenames in 190520_mod\n",
    "skip_shots = ['azurit-libs019-session_11_02AM',\n",
    "            'chalkopyrit-libs037-session_3_18PM',\n",
    "            'malachit-libs069-session_10_34AM']\n",
    "\n",
    "classify_elements = True\n",
    "use_only_stone_generated_data = False\n",
    "\n",
    "gen_intensity_data = np.load(generated_data_path + 'data.npy')\n",
    "gen_labels = np.load(generated_data_path + 'labels.npy')\n",
    "\n",
    "data, real_labels, stone_ids, session_ids, shot_ids = data_utils.data_importer(real_data_path, skip_shots)"
   ]
  },
  {
   "cell_type": "code",
   "execution_count": null,
   "metadata": {},
   "outputs": [],
   "source": [
    "print('Number of generated spectra:', gen_intensity_data.shape[0])\n",
    "print('Number of real spectra:', len(data))"
   ]
  },
  {
   "cell_type": "code",
   "execution_count": null,
   "metadata": {},
   "outputs": [],
   "source": [
    "print('Number of rocks:',np.unique(stone_ids).shape[0])\n",
    "print('Number of Measurement Points:',np.unique(session_ids).shape[0])"
   ]
  },
  {
   "cell_type": "code",
   "execution_count": null,
   "metadata": {},
   "outputs": [],
   "source": [
    "unique, counts = np.unique(real_labels, return_counts=True)\n",
    "print('Classes:')\n",
    "print(unique)\n",
    "print('With respective proportions:')\n",
    "print(counts/len(data))"
   ]
  }
 ],
 "metadata": {
  "kernelspec": {
   "display_name": "Python 3",
   "language": "python",
   "name": "python3"
  },
  "language_info": {
   "codemirror_mode": {
    "name": "ipython",
    "version": 3
   },
   "file_extension": ".py",
   "mimetype": "text/x-python",
   "name": "python",
   "nbconvert_exporter": "python",
   "pygments_lexer": "ipython3",
   "version": "3.7.7"
  }
 },
 "nbformat": 4,
 "nbformat_minor": 4
}
