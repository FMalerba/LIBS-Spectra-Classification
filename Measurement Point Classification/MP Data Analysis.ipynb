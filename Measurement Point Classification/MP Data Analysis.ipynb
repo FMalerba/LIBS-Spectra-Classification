{
 "cells": [
  {
   "cell_type": "code",
   "execution_count": 11,
   "metadata": {},
   "outputs": [],
   "source": [
    "import numpy as np\n",
    "from utilities import data_management_utils as data_utils\n",
    "from utilities import utils as utils\n",
    "import pandas as pd\n",
    "import matplotlib.pyplot as plt\n",
    "%matplotlib inline"
   ]
  },
  {
   "cell_type": "code",
   "execution_count": 2,
   "metadata": {},
   "outputs": [],
   "source": [
    "real_data_path = './data/complete_data/'\n",
    "index_file_path = './data/stone_classification/ZusammenfassungMinerale.xlsx'\n",
    "\n",
    "args = data_utils.data_prep_full_data_MP(real_data_path, index_file_path, central_grid=True)\n",
    "\n",
    "\n",
    "real_MP_intensity_data, real_MP_labels, real_MP_y, real_MP_rocks = args"
   ]
  },
  {
   "cell_type": "code",
   "execution_count": 3,
   "metadata": {},
   "outputs": [
    {
     "name": "stdout",
     "output_type": "stream",
     "text": [
      "There are 559 samples\n",
      "There are 8 different classes\n",
      "The average number of samples for each class is: 69.875\n",
      "There are 2 classes that have less than half of the average number of samples\n",
      "['borates and nitrates' 'halides']\n"
     ]
    }
   ],
   "source": [
    "print('There are {} samples'.format(real_MP_intensity_data.shape[0]))\n",
    "\n",
    "classes, counts= np.unique(real_MP_labels, return_counts=True)\n",
    "print('There are {} different classes'.format(classes.shape[0]))\n",
    "print('The average number of samples for each class is:', np.mean(counts))\n",
    "print('There are {} classes that have less than half of'\n",
    "      ' the average number of samples'.format(classes[counts < np.mean(counts)/2].size))\n",
    "\n",
    "print(classes[counts < np.mean(counts)/2])"
   ]
  },
  {
   "cell_type": "code",
   "execution_count": 4,
   "metadata": {},
   "outputs": [
    {
     "name": "stdout",
     "output_type": "stream",
     "text": [
      "borates and nitrates: 0.0072 - 4\n",
      "carbonates: 0.1395 - 78\n",
      "halides: 0.0286 - 16\n",
      "oxides: 0.102 - 57\n",
      "phosphates, arsenates and vanadates: 0.1717 - 96\n",
      "quartz and silicates: 0.0823 - 46\n",
      "sulfides: 0.3238 - 181\n",
      "sulphates, chromates, molybdates and wolframates: 0.1449 - 81\n"
     ]
    }
   ],
   "source": [
    "for i in range(classes.size):\n",
    "    print(classes[i] + ':', np.round(counts[i]/np.sum(counts), 4), '-', counts[i])"
   ]
  },
  {
   "cell_type": "code",
   "execution_count": 10,
   "metadata": {},
   "outputs": [],
   "source": [
    "# Checks that the two least common classes are common enough to be present in both test and training set\n",
    "stones = list(set(zip(real_MP_labels.tolist(), real_MP_rocks.tolist())))\n",
    "stones.sort()\n",
    "\n",
    "for stone in stones:\n",
    "    test_set = (real_MP_labels == stone[0]) & (real_MP_rocks == stone[1])\n",
    "    test_y = real_MP_y[test_set]\n",
    "    train_set = ~test_set\n",
    "    \n",
    "    if test_y[0][0] == 1:\n",
    "        assert real_MP_labels[train_set & (real_MP_labels == 'borates and nitrates')].shape[0] != 0\n",
    "    \n",
    "    if test_y[0][2] == 1:\n",
    "        assert real_MP_labels[train_set & (real_MP_labels == 'halides')].shape[0] != 0 "
   ]
  },
  {
   "cell_type": "code",
   "execution_count": 19,
   "metadata": {},
   "outputs": [
    {
     "data": {
      "image/png": "[encoded data removed]",
      "text/plain": [
       "<Figure size 432x432 with 1 Axes>"
      ]
     },
     "metadata": {
      "needs_background": "light"
     },
     "output_type": "display_data"
    }
   ],
   "source": [
    "spectra_1d = pd.read_csv('./data/190520_mod/chalkosin-042-session_2_55PM-shot(37).csv')\n",
    "\n",
    "plt.figure(figsize=(6,6))\n",
    "plt.plot(spectra_1d['wavelength'], spectra_1d['intensity'])\n",
    "plt.xlabel('Wavelength')\n",
    "plt.ylabel('Intensity')\n",
    "plt.title('1D spectral plot of one shot')\n",
    "image_filename = '1D_spectra.png'\n",
    "plt.tight_layout()\n",
    "plt.savefig('Plots/' + image_filename, dpi=500)\n",
    "plt.show()"
   ]
  },
  {
   "cell_type": "code",
   "execution_count": null,
   "metadata": {},
   "outputs": [],
   "source": []
  }
 ],
 "metadata": {
  "kernelspec": {
   "display_name": "Python 3",
   "language": "python",
   "name": "python3"
  },
  "language_info": {
   "codemirror_mode": {
    "name": "ipython",
    "version": 3
   },
   "file_extension": ".py",
   "mimetype": "text/x-python",
   "name": "python",
   "nbconvert_exporter": "python",
   "pygments_lexer": "ipython3",
   "version": "3.7.7"
  }
 },
 "nbformat": 4,
 "nbformat_minor": 2
}
